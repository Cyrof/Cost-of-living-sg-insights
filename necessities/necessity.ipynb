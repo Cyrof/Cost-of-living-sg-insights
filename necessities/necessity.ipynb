{
 "cells": [
  {
   "cell_type": "markdown",
   "metadata": {},
   "source": [
    "# Necessity Graphs \n",
    "## Datasets\n",
    "- [CPI: Food](https://www.ceicdata.com/en/singapore/consumer-price-index-2019100/cpi-food)\n",
    "- [General CPI](https://data.gov.sg/datasets/d_ba8a05c8908b5e1dc13540286d585f8a/view)"
   ]
  }
 ],
 "metadata": {
  "language_info": {
   "name": "python"
  }
 },
 "nbformat": 4,
 "nbformat_minor": 2
}
