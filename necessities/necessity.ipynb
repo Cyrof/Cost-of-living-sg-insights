{
 "cells": [
  {
   "cell_type": "markdown",
   "metadata": {},
   "source": [
    "# Necessity Graphs \n",
    "## Datasets\n",
    "- [General CPI](https://data.gov.sg/datasets/d_ba8a05c8908b5e1dc13540286d585f8a/view)\n",
    "- [Gross Income](https://data.gov.sg/datasets/d_52760e82e8786bac11cca40eb29d1a93/view)"
   ]
  },
  {
   "cell_type": "code",
   "execution_count": null,
   "metadata": {},
   "outputs": [],
   "source": [
    "import pandas as pd\n",
    "import requests\n",
    "import seaborn as sns\n",
    "import matplotlib.pyplot as plt\n",
    "from typing import List\n",
    "import re"
   ]
  },
  {
   "cell_type": "markdown",
   "metadata": {},
   "source": [
    "## global variables"
   ]
  },
  {
   "cell_type": "code",
   "execution_count": null,
   "metadata": {},
   "outputs": [],
   "source": [
    "BASE_DATA_GOV_URL = \"https://data.gov.sg/api/action/datastore_search\""
   ]
  },
  {
   "cell_type": "markdown",
   "metadata": {},
   "source": [
    "## retrieve data"
   ]
  },
  {
   "cell_type": "code",
   "execution_count": null,
   "metadata": {},
   "outputs": [],
   "source": [
    "# function to fetch data from data.gov.sg \n",
    "def fetch_datagov_dataset(dataset_id: str, limit: int=10_000_000) -> pd.DataFrame:\n",
    "    \"\"\"\n",
    "    Fetch dataset from data.gov.sg API.\n",
    "\n",
    "    Args: \n",
    "        dataset_id (str): The dataset ID from data.gov.sg.\n",
    "        limit (int, optional): Number of records to fetch. Defaults to 10 million.\n",
    "\n",
    "    Returns: \n",
    "        pd.DataFrame: Data retrieved in DataFrame format.\n",
    "    \"\"\"\n",
    "    response = requests.get(BASE_DATA_GOV_URL, params={\"resource_id\": dataset_id, \"limit\": limit})\n",
    "    data = response.json()\n",
    "    \n",
    "    if not data[\"success\"]:\n",
    "        raise Error(f\"Failed to fetch dataset ({dataset_id}).\")\n",
    "        \n",
    "    return pd.DataFrame(data[\"result\"][\"records\"])"
   ]
  },
  {
   "cell_type": "code",
   "execution_count": null,
   "metadata": {},
   "outputs": [],
   "source": [
    "# Fetch Consumer Price Index (CPI) dataset from data.gov.sg\n",
    "datagov_dataset_id = \"d_de7e93a1d0e22c790516a632747bf7f0\"\n",
    "cpi_df = fetch_datagov_dataset(datagov_dataset_id)\n",
    "\n",
    "# Fetch Gross Income dataset from data.gov.sg \n",
    "income_dataset_id = \"d_52760e82e8786bac11cca40eb29d1a93\"\n",
    "gross_income_df = fetch_datagov_dataset(income_dataset_id)"
   ]
  },
  {
   "cell_type": "markdown",
   "metadata": {},
   "source": [
    "## Data Exploration CPI"
   ]
  },
  {
   "cell_type": "code",
   "execution_count": null,
   "metadata": {},
   "outputs": [],
   "source": [
    "cpi_df.head()"
   ]
  },
  {
   "cell_type": "code",
   "execution_count": null,
   "metadata": {},
   "outputs": [],
   "source": [
    "cpi_df.describe()"
   ]
  },
  {
   "cell_type": "code",
   "execution_count": null,
   "metadata": {},
   "outputs": [],
   "source": [
    "cpi_df.isnull().sum()"
   ]
  },
  {
   "cell_type": "code",
   "execution_count": null,
   "metadata": {},
   "outputs": [],
   "source": [
    "cpi_df.dtypes"
   ]
  },
  {
   "cell_type": "code",
   "execution_count": null,
   "metadata": {},
   "outputs": [],
   "source": [
    "cpi_df[\"DataSeries\"].to_list()"
   ]
  },
  {
   "cell_type": "markdown",
   "metadata": {},
   "source": [
    "## Data Exploration Gross Income"
   ]
  },
  {
   "cell_type": "code",
   "execution_count": null,
   "metadata": {},
   "outputs": [],
   "source": [
    "gross_income_df.head()"
   ]
  },
  {
   "cell_type": "code",
   "execution_count": null,
   "metadata": {},
   "outputs": [],
   "source": [
    "gross_income_df.describe()"
   ]
  },
  {
   "cell_type": "code",
   "execution_count": null,
   "metadata": {},
   "outputs": [],
   "source": [
    "gross_income_df.isnull().sum()"
   ]
  },
  {
   "cell_type": "code",
   "execution_count": null,
   "metadata": {},
   "outputs": [],
   "source": [
    "gross_income_df.dtypes"
   ]
  },
  {
   "cell_type": "markdown",
   "metadata": {},
   "source": [
    "## Data Cleaning & Processing"
   ]
  },
  {
   "cell_type": "code",
   "execution_count": null,
   "metadata": {},
   "outputs": [],
   "source": [
    "cpi_df[cpi_df[\"DataSeries\"].str.contains(\"Health Care\")]"
   ]
  },
  {
   "cell_type": "markdown",
   "metadata": {},
   "source": [
    "## Rows to use \n",
    "- Food Excl Food Serving Services\n",
    "- Transport\n",
    "- Housing & Utilities\n",
    "- Telecommunication Services\n",
    "- Health Care"
   ]
  },
  {
   "cell_type": "code",
   "execution_count": null,
   "metadata": {},
   "outputs": [],
   "source": [
    "def process_cpi(cpi_df: pd.DataFrame, row_list: List[str], year_range: int = 11, skip_years: List[str] = []) -> pd.DataFrame:\n",
    "    cpi_df[\"DataSeries\"] = cpi_df[\"DataSeries\"].str.strip()\n",
    "    temp_df = cpi_df[cpi_df[\"DataSeries\"].isin(row_list)].reset_index(drop=True)\n",
    "    temp_df = temp_df.drop(columns=[\"_id\"], errors=\"ignore\")\n",
    "\n",
    "    current_year = 2024\n",
    "    available_years = {col[:4] for col in cpi_df.columns if col[:4].isdigit()}\n",
    "    y_range = [\n",
    "        str(current_year - x)\n",
    "        for x in range(year_range)\n",
    "        if str(current_year - x) in available_years and str(current_year - x) not in map(str, skip_years)\n",
    "    ]\n",
    "\n",
    "    yearly_avg = {}\n",
    "    row_names = []\n",
    "    for index, row in temp_df.iterrows():\n",
    "        row_name = row[\"DataSeries\"]\n",
    "        row_names.append(row_name)\n",
    "\n",
    "        yearly_avg[row_name] = {}\n",
    "\n",
    "        for year in y_range: \n",
    "            month_col = [col for col in temp_df.columns if col.startswith(year)]\n",
    "            if month_col: \n",
    "                row_data = pd.to_numeric(row[month_col], errors=\"coerce\").dropna()\n",
    "\n",
    "                if not row_data.empty:\n",
    "                    yearly_avg[row_name][year] = row_data.mean()\n",
    "                else:\n",
    "                    yearly_avg[row_name][year] = None \n",
    "    return pd.DataFrame(yearly_avg).T"
   ]
  },
  {
   "cell_type": "code",
   "execution_count": null,
   "metadata": {},
   "outputs": [],
   "source": [
    "def process_income(income_df: pd.DataFrame, row_name: str, year_range: int = 11, skip_years: list[str] = []) -> pd.DataFrame:\n",
    "    income_df[\"DataSeries\"].str.strip()\n",
    "    temp_df = income_df[income_df[\"DataSeries\"].str.contains(row_name)].reset_index(drop=True)\n",
    "    temp_df = temp_df.drop(columns=[\"_id\"], errors=\"ignore\")\n",
    "\n",
    "    current_year = 2024\n",
    "    available_years = set(map(str, income_df.columns))\n",
    "    y_range = [\n",
    "        str(current_year - x)\n",
    "        for x in range(year_range)\n",
    "        if str(current_year - x) in available_years and str(current_year - x) not in map(str, skip_years)\n",
    "    ]\n",
    "\n",
    "    temp_df.index = [\"Income\"]\n",
    "    return temp_df[y_range]"
   ]
  },
  {
   "cell_type": "code",
   "execution_count": null,
   "metadata": {},
   "outputs": [],
   "source": [
    "n_list = [\n",
    "    \"Food Excl Food Serving Services\",\n",
    "    \"Transport\",\n",
    "    \"Housing & Utilities\",\n",
    "    \"Telecommunication Services\",\n",
    "    \"Health Care\"\n",
    "]\n",
    "necessity_df = process_cpi(cpi_df=cpi_df, row_list=n_list)\n",
    "necessity_df"
   ]
  },
  {
   "cell_type": "code",
   "execution_count": null,
   "metadata": {},
   "outputs": [],
   "source": [
    "income_df = process_income(income_df=gross_income_df, row_name=\"Median\")\n",
    "income_df = income_df.transpose()\n",
    "income_df"
   ]
  },
  {
   "cell_type": "code",
   "execution_count": null,
   "metadata": {},
   "outputs": [],
   "source": [
    "#total_necessity_df = pd.DataFrame({\n",
    "#    \"Total Necessity\": necessity_df.mean(axis=0)\n",
    "#})\n",
    "necessity_df = necessity_df.transpose()\n",
    "necessity_df"
   ]
  },
  {
   "cell_type": "code",
   "execution_count": null,
   "metadata": {},
   "outputs": [],
   "source": [
    "necessity_income_df = pd.merge(necessity_df, income_df, left_index=True, right_index=True, how=\"outer\")\n",
    "necessity_income_df = necessity_income_df.apply(pd.to_numeric, errors=\"coerce\")\n",
    "necessity_income_df\n",
    "\n",
    "# convert year to integer\n",
    "# necessity_income_df.index = necessity_income_df.index.astype(int)\n",
    "\n",
    "# set index name to year \n",
    "# necessity_income_df.index = necessity_income_df.index.set_names([\"Year\"])\n",
    "\n",
    "# necessity_income_df[\"Income\"] = pd.to_numeric(necessity_income_df[\"Income\"], errors=\"coerce\")\n",
    "\n",
    "# necessity_income_df"
   ]
  },
  {
   "cell_type": "markdown",
   "metadata": {},
   "source": [
    "## Visualisation"
   ]
  },
  {
   "cell_type": "code",
   "execution_count": null,
   "metadata": {},
   "outputs": [],
   "source": [
    "fig, ax1 = plt.subplots(figsize=(12, 6))\n",
    "\n",
    "# Plotting CPI components on the left y-axis\n",
    "cpi_components = ['Food Excl Food Serving Services', 'Housing & Utilities', \n",
    "                  'Health Care', 'Transport', 'Telecommunication Services']\n",
    "for component in cpi_components:\n",
    "    ax1.plot(necessity_income_df.index, necessity_income_df[component], label=component)\n",
    "\n",
    "ax1.set_xlabel('Year')\n",
    "ax1.set_ylabel('CPI Index', color='blue')\n",
    "ax1.tick_params(axis='y', labelcolor='blue')\n",
    "ax1.grid(True)\n",
    "\n",
    "# Creating the second y-axis for Income\n",
    "ax2 = ax1.twinx()\n",
    "ax2.plot(necessity_income_df.index, necessity_income_df['Income'], color='red', label='Income', linestyle='--')\n",
    "ax2.set_ylabel('Income', color='red')\n",
    "ax2.tick_params(axis='y', labelcolor='red')\n",
    "\n",
    "# Title and Legend\n",
    "plt.title('Cost of Living and Income Trends (2014-2024)')\n",
    "ax1.legend(loc='upper left')\n",
    "ax2.legend(loc='upper right')\n",
    "\n",
    "plt.show()"
   ]
  },
  {
   "cell_type": "markdown",
   "metadata": {},
   "source": [
    "## Affordability Index Percentage Over Time "
   ]
  },
  {
   "cell_type": "markdown",
   "metadata": {},
   "source": [
    "## Data cleaning and processing "
   ]
  },
  {
   "cell_type": "markdown",
   "metadata": {},
   "source": [
    "**Affordabilty Index Algorithm**\n",
    "$$\\text{Affordability Index} = \\left(\\frac{\\text{Necessity Avg}}{\\text{Income}}\\right) \\times 100$$"
   ]
  },
  {
   "cell_type": "code",
   "execution_count": null,
   "metadata": {},
   "outputs": [],
   "source": [
    "affordability_df = necessity_income_df.copy()\n",
    "\n",
    "affordability_df[\"Affordability Index\"] = (affordability_df[\"Total Necessity\"] / affordability_df[\"Income\"]) * 100\n",
    "\n",
    "affordability_df = affordability_df[[\"Affordability Index\"]]\n",
    "\n",
    "affordability_df"
   ]
  },
  {
   "cell_type": "markdown",
   "metadata": {},
   "source": [
    "### Visualisation"
   ]
  },
  {
   "cell_type": "code",
   "execution_count": null,
   "metadata": {},
   "outputs": [],
   "source": [
    "fig2, ax3 = plt.subplots(figsize=(12, 6))\n",
    "\n",
    "sns.lineplot(x=affordability_df.index, y=affordability_df[\"Affordability Index\"], marker=\"o\", color=\"blue\", label=\"Affordability Index\", ax=ax3)\n",
    "\n",
    "# labels and title\n",
    "ax3.set_xlabel(\"Year\")\n",
    "ax3.set_ylabel(\"Affordability Index (%)\")\n",
    "ax3.set_title(\"Affordability Index Over Time\")\n",
    "\n",
    "# add grid for better readability \n",
    "ax3.grid(True, linestyle=\"--\", alpha=0.6)\n",
    "\n",
    "plt.xticks(rotation=45)\n",
    "\n",
    "plt.show()"
   ]
  },
  {
   "cell_type": "markdown",
   "metadata": {},
   "source": [
    "## Necessity Breakdown "
   ]
  },
  {
   "cell_type": "markdown",
   "metadata": {},
   "source": [
    "### Data Cleaning & Processing"
   ]
  },
  {
   "cell_type": "code",
   "execution_count": null,
   "metadata": {},
   "outputs": [],
   "source": [
    "necessity_breakdown_df = necessity_df.copy()\n",
    "necessity_breakdown_df = necessity_breakdown_df.transpose()\n",
    "necessity_breakdown_df = necessity_breakdown_df[::-1]\n",
    "necessity_breakdown_df"
   ]
  },
  {
   "cell_type": "markdown",
   "metadata": {},
   "source": [
    "### Visualisation"
   ]
  },
  {
   "cell_type": "code",
   "execution_count": null,
   "metadata": {},
   "outputs": [],
   "source": [
    "fig3, ax4 = plt.subplots(figsize=(12, 6))\n",
    "\n",
    "# plot stacked bar chart \n",
    "necessity_breakdown_df.plot(kind=\"bar\", stacked=True, ax=ax4, cmap=\"coolwarm\", alpha=0.75)\n",
    "\n",
    "# labels and title\n",
    "ax4.set_xlabel(\"Year\")\n",
    "ax4.set_ylabel(\"CPI Value\")\n",
    "ax4.set_title(\"Breakdown of Basic Necessities Over Time\")\n",
    "\n",
    "# legend\n",
    "ax4.legend(title=\"Basic Necessities Components\", bbox_to_anchor=(1.05, 1), loc=\"upper left\")\n",
    "\n",
    "plt.xticks(rotation=45)\n",
    "\n",
    "plt.show()"
   ]
  }
 ],
 "metadata": {
  "language_info": {
   "name": "python"
  }
 },
 "nbformat": 4,
 "nbformat_minor": 4
}
