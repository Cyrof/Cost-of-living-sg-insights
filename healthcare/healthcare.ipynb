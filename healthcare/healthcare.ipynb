{
 "cells": [
  {
   "cell_type": "markdown",
   "metadata": {},
   "source": [
    "# Healthcare Graphs\n",
    "\n",
    "## Datasets\n",
    "- [Life Expectancy](https://tablebuilder.singstat.gov.sg/table/TS/M810501#!)"
   ]
  }
 ],
 "metadata": {
  "language_info": {
   "name": "python"
  }
 },
 "nbformat": 4,
 "nbformat_minor": 2
}
