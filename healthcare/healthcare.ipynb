{
 "cells": [
  {
   "cell_type": "markdown",
   "metadata": {},
   "source": [
    "# Healthcare Graphs Analysis\n",
    "This Jupyter Notebook retrieves, processes, and visualises life expectancy and healthcare costs over the years in Singapore using data from:\n",
    "- [**Life Expectancy dataset**](https://tablebuilder.singstat.gov.sg/table/TS/M810501#!)\n",
    "- [**CPI dataset**](https://data.gov.sg/datasets/d_de7e93a1d0e22c790516a632747bf7f0/view?dataExplorerPage=9)\n",
    "- [**Gross Income dataset**](https://data.gov.sg/datasets/d_52760e82e8786bac11cca40eb29d1a93/view)\n",
    "## Libraries"
   ]
  },
  {
   "cell_type": "code",
   "execution_count": null,
   "metadata": {},
   "outputs": [],
   "source": [
    "import pandas as pd\n",
    "import requests\n",
    "import seaborn as sns\n",
    "import matplotlib.pyplot as plt\n",
    "import matplotlib.ticker as plticker\n",
    "from typing import List\n",
    "\n",
    "# Constants for API endpoints\n",
    "BASE_DATA_GOV_URL = \"https://data.gov.sg/api/action/datastore_search\"\n",
    "BASE_SINGSTAT_URL = \"https://tablebuilder.singstat.gov.sg/api/table/tabledata\""
   ]
  },
  {
   "cell_type": "markdown",
   "metadata": {},
   "source": [
    "## Data Retrieval Functions "
   ]
  },
  {
   "cell_type": "code",
   "execution_count": null,
   "metadata": {},
   "outputs": [],
   "source": [
    "# function to fetch data from data.gov.sg \n",
    "def fetch_datagov_dataset(dataset_id: str, limit: int=10_000_000) -> pd.DataFrame:\n",
    "    \"\"\"\n",
    "    Fetch dataset from data.gov.sg API.\n",
    "\n",
    "    Args: \n",
    "        dataset_id (str): The dataset ID from data.gov.sg.\n",
    "        limit (int, optional): Number of records to fetch. Defaults to 10 million.\n",
    "\n",
    "    Returns: \n",
    "        pd.DataFrame: Data retrieved in DataFrame format.\n",
    "    \"\"\"\n",
    "    response = requests.get(BASE_DATA_GOV_URL, params={\"resource_id\": dataset_id, \"limit\": limit})\n",
    "    data = response.json()\n",
    "    \n",
    "    if not data[\"success\"]:\n",
    "        raise Error(f\"Failed to fetch dataset ({dataset_id}).\")\n",
    "        \n",
    "    return pd.DataFrame(data[\"result\"][\"records\"])"
   ]
  },
  {
   "cell_type": "code",
   "execution_count": null,
   "metadata": {},
   "outputs": [],
   "source": [
    "def parse_singstat_2d_data(raw_data: dict) -> pd.DataFrame:\n",
    "    \"\"\"\n",
    "    Parse the JSON data from SingStat API into a structured DataFrame.\n",
    "\n",
    "    Args: \n",
    "        raw_data (dict): Raw JSON data from SingState API.\n",
    "\n",
    "    Returns: \n",
    "        pd.DataFrame: Parsed DataFrame with years as columns.\n",
    "    \"\"\"\n",
    "    rows = raw_data.get(\"Data\", {}).get(\"row\", [])\n",
    "    records = []\n",
    "\n",
    "    for row in rows:\n",
    "        series_name = row.get(\"rowText\", \"\")\n",
    "        columns = row.get(\"columns\", [])\n",
    "        series_data = {col[\"key\"]: col[\"value\"] for col in columns}\n",
    "        series_data[\"Series\"] = series_name\n",
    "        records.append(series_data)\n",
    "\n",
    "    df = pd.DataFrame(records)\n",
    "    df.set_index(\"Series\")\n",
    "    df.columns.name = \"Year\"\n",
    "    return df\n",
    "\n",
    "def fetch_singstat_dataset(dataset_id: str, limit: int = 10_000_000) -> pd.DataFrame:\n",
    "    \"\"\" \n",
    "    Fetch dataset from SingStat API.\n",
    "\n",
    "    Args: \n",
    "        dataset_id (str): The dataset ID from SingStat.\n",
    "        limit (int, optional): Number of records to fetch. Defaults to 10 million.\n",
    "\n",
    "    Returns:\n",
    "        pd.DataFrame: Data retrieved in DataFrame format.\n",
    "    \"\"\"\n",
    "    response = requests.get(\n",
    "        f\"{BASE_SINGSTAT_URL}/{dataset_id}\",\n",
    "        params={\"limit\": limit},\n",
    "        headers={\n",
    "            \"Accept\": \"application/json\",\n",
    "            \"User-Agent\": \"curl/8.11.1\", # Need to fake the user agent because SingStat blocks `python-requests`.\n",
    "        }\n",
    "    )\n",
    "    data = response.json()\n",
    "    return parse_singstat_2d_data(data)"
   ]
  },
  {
   "cell_type": "markdown",
   "metadata": {},
   "source": [
    "## Fetch Data"
   ]
  },
  {
   "cell_type": "code",
   "execution_count": null,
   "metadata": {},
   "outputs": [],
   "source": [
    "# Fetch Consumer Price Index (CPI) dataset from data.gov.sg\n",
    "datagov_dataset_id = \"d_de7e93a1d0e22c790516a632747bf7f0\"\n",
    "cpi_df = fetch_datagov_dataset(datagov_dataset_id)\n",
    "\n",
    "# Fetch Life Expectancy dataset from SingStat\n",
    "sing_stat_dataset_id = \"M810501\"\n",
    "lx_df = fetch_singstat_dataset(sing_stat_dataset_id)\n",
    "\n",
    "# Fetch gross income \n",
    "income_dataset_id = \"d_52760e82e8786bac11cca40eb29d1a93\"\n",
    "income_df = fetch_datagov_dataset(income_dataset_id)"
   ]
  },
  {
   "cell_type": "markdown",
   "metadata": {},
   "source": [
    "## Data Exploration CPI"
   ]
  },
  {
   "cell_type": "code",
   "execution_count": null,
   "metadata": {},
   "outputs": [],
   "source": [
    "cpi_df.head()"
   ]
  },
  {
   "cell_type": "code",
   "execution_count": null,
   "metadata": {},
   "outputs": [],
   "source": [
    "cpi_df.describe()"
   ]
  },
  {
   "cell_type": "code",
   "execution_count": null,
   "metadata": {},
   "outputs": [],
   "source": [
    "cpi_df.isnull().sum()"
   ]
  },
  {
   "cell_type": "code",
   "execution_count": null,
   "metadata": {},
   "outputs": [],
   "source": [
    "cpi_df.dtypes"
   ]
  },
  {
   "cell_type": "markdown",
   "metadata": {},
   "source": [
    "## Data Exploration Life Expectancy"
   ]
  },
  {
   "cell_type": "code",
   "execution_count": null,
   "metadata": {},
   "outputs": [],
   "source": [
    "lx_df.head()"
   ]
  },
  {
   "cell_type": "code",
   "execution_count": null,
   "metadata": {},
   "outputs": [],
   "source": [
    "lx_df.describe()"
   ]
  },
  {
   "cell_type": "code",
   "execution_count": null,
   "metadata": {},
   "outputs": [],
   "source": [
    "lx_df.isnull().sum()"
   ]
  },
  {
   "cell_type": "code",
   "execution_count": null,
   "metadata": {},
   "outputs": [],
   "source": [
    "lx_df.dtypes"
   ]
  },
  {
   "cell_type": "markdown",
   "metadata": {},
   "source": [
    "## Data Exploration Income"
   ]
  },
  {
   "cell_type": "code",
   "execution_count": null,
   "metadata": {},
   "outputs": [],
   "source": [
    "income_df.head()"
   ]
  },
  {
   "cell_type": "code",
   "execution_count": null,
   "metadata": {},
   "outputs": [],
   "source": [
    "income_df.describe()"
   ]
  },
  {
   "cell_type": "code",
   "execution_count": null,
   "metadata": {},
   "outputs": [],
   "source": [
    "lx_df.isnull().sum()"
   ]
  },
  {
   "cell_type": "code",
   "execution_count": null,
   "metadata": {},
   "outputs": [],
   "source": [
    "lx_df.dtypes"
   ]
  },
  {
   "cell_type": "markdown",
   "metadata": {},
   "source": [
    "## Life Expectancy vs Healthcare Cost\n",
    "## Data Cleaning & Processing"
   ]
  },
  {
   "cell_type": "code",
   "execution_count": null,
   "metadata": {},
   "outputs": [],
   "source": [
    "def get_yearly_avg(cpi_df: pd.DataFrame, y_range: int = 11) -> pd.DataFrame:\n",
    "    \"\"\"\n",
    "    Calculate yearly average healthcare costs from monthly CPI data.\n",
    "\n",
    "    Args:\n",
    "        cpi_df (pd.DataFrame): CPI dataset.\n",
    "        y_range (int, optional): Number of years to consider. Defaults to 11.\n",
    "\n",
    "    Returns: \n",
    "        pd.DataFrame: Yearly average healthcare cost.\n",
    "    \"\"\"\n",
    "    current_year = 2023\n",
    "    year_range = [str(current_year-x) for x in range(y_range)]\n",
    "\n",
    "    yearly_avg = {}\n",
    "    for year in year_range:\n",
    "        month_col = [col for col in cpi_df.columns if col.startswith(year)]\n",
    "\n",
    "        if month_col: \n",
    "            cpi_df[month_col] = cpi_df[month_col].apply(pd.to_numeric)\n",
    "            yearly_avg[year] = cpi_df[month_col].sum(axis=1) / len(month_col)\n",
    "            \n",
    "    return pd.DataFrame(yearly_avg)\n"
   ]
  },
  {
   "cell_type": "code",
   "execution_count": null,
   "metadata": {},
   "outputs": [],
   "source": [
    "def format_life_expectancy(lx_df: pd.DataFrame, series_name: str ,y_range: int=11) -> pd.DataFrame:\n",
    "    \"\"\"\n",
    "    Format and filter Life Expectancy dataset.\n",
    "\n",
    "    Args:\n",
    "        lx_df (pd.DataFrame): Life Expectancy dataset.\n",
    "        series_name (str): The series name to extract. \n",
    "        y_range (int, optional): Number of years to soncider. Default to 11.\n",
    "\n",
    "    Returns: \n",
    "        pd.DataFrame: Filtered and formatted DataFrame.\n",
    "    \"\"\"\n",
    "    formated_df = lx_df[lx_df[\"Series\"] == series_name].drop(columns=[\"Series\"])\n",
    "    years_to_use = [str(2023-x) for x in range(y_range)]\n",
    "\n",
    "    return formated_df[years_to_use]"
   ]
  },
  {
   "cell_type": "code",
   "execution_count": null,
   "metadata": {},
   "outputs": [],
   "source": [
    "# Filter CPI dataset to retain only healthcare data\n",
    "health_care_df = cpi_df[cpi_df['DataSeries'].str.contains(\"Health Care\")].reset_index(drop=True)\n",
    "\n",
    "# Calculate yearly healthcare cost average\n",
    "hc_yearly_df = get_yearly_avg(health_care_df, y_range=22)"
   ]
  },
  {
   "cell_type": "code",
   "execution_count": null,
   "metadata": {},
   "outputs": [],
   "source": [
    "# Format life expectancy data\n",
    "series_name = \"Total Life Expectancy At Birth (Residents)\"\n",
    "lx_yearly_df = format_life_expectancy(lx_df, series_name, y_range=22)"
   ]
  },
  {
   "cell_type": "code",
   "execution_count": null,
   "metadata": {},
   "outputs": [],
   "source": [
    "# Clean and merge both datasets\n",
    "lx_yearly_df = lx_yearly_df.reset_index(drop=True)\n",
    "merged_df = pd.concat([lx_yearly_df, hc_yearly_df])\n",
    "merged_df.index = [\"Life Expectancy\", \"Healthcare Average\"]"
   ]
  },
  {
   "cell_type": "code",
   "execution_count": null,
   "metadata": {},
   "outputs": [],
   "source": [
    "# Transpose and format for visualisation \n",
    "merged_df = merged_df.T.reset_index().rename(columns={\"index\": \"Year\"})"
   ]
  },
  {
   "cell_type": "code",
   "execution_count": null,
   "metadata": {},
   "outputs": [],
   "source": [
    "# Make sure all numbers are numeric.\n",
    "merged_df = merged_df.apply(pd.to_numeric)"
   ]
  },
  {
   "cell_type": "code",
   "execution_count": null,
   "metadata": {},
   "outputs": [],
   "source": [
    "merged_df = merged_df[merged_df[\"Year\"] >= 2014]\n",
    "merged_df"
   ]
  },
  {
   "cell_type": "markdown",
   "metadata": {},
   "source": [
    "## Visualisation"
   ]
  },
  {
   "cell_type": "code",
   "execution_count": null,
   "metadata": {},
   "outputs": [],
   "source": [
    "# Dual-axis line chart\n",
    "fig1, ax1 = plt.subplots(figsize=(10, 5))\n",
    "\n",
    "# First Line: Life Expectancy \n",
    "sns.lineplot(data=merged_df, x=\"Year\", y=\"Life Expectancy\", marker=\"o\", ax=ax1, color=\"blue\", label=\"Life Expectancy\", legend=False)  \n",
    "ax1.set_ylabel(\"Life Expectancy\", color=\"blue\")\n",
    "ax1.tick_params(axis='y', labelcolor=\"blue\")\n",
    "\n",
    "# Second Line: Healthcare Cost Average\n",
    "ax2 = ax1.twinx()\n",
    "sns.lineplot(data=merged_df, x=\"Year\", y=\"Healthcare Average\", marker='s', ax=ax2, color=\"red\", label=\"Healthcare  Cost Average\", legend=False)\n",
    "ax2.set_ylabel(\" Healthcare Cost Average\", color=\"red\")\n",
    "ax2.tick_params(axis='y', labelcolor=\"red\")\n",
    "\n",
    "# Legend & Labels\n",
    "lines, labels = ax1.get_legend_handles_labels()\n",
    "lines2, labels2 = ax2.get_legend_handles_labels()\n",
    "ax1.legend(lines + lines2, labels + labels2, loc=0)\n",
    "\n",
    "# Title and Layout \n",
    "ax1.set_xlabel(\"Year\")\n",
    "ax1.set_title(\"Life Expectancy vs. Healthcare Cost Average (Dual-Axis line chart)\")\n",
    "fig1.tight_layout(rect=[0, 0, 0.85, 1])\n",
    "\n",
    "# Make x-axis ticks use a step size of 1.\n",
    "ax1.xaxis.set_major_locator(plticker.MultipleLocator(base=1.0))\n",
    "\n",
    "# Show plot\n",
    "plt.show()"
   ]
  },
  {
   "cell_type": "markdown",
   "metadata": {},
   "source": [
    "## Healthcare Cost vs Income Growth\n",
    "## Data Cleaning & Processing"
   ]
  },
  {
   "cell_type": "code",
   "execution_count": null,
   "metadata": {},
   "outputs": [],
   "source": [
    "def process_income(income_df: pd.DataFrame, row_name: str, year_range: int = 11, skip_years: list[str] = []) -> pd.DataFrame:\n",
    "    income_df[\"DataSeries\"].str.strip()\n",
    "    gross_income_df = income_df[income_df[\"DataSeries\"].str.contains(row_name)].reset_index(drop=True)\n",
    "    gross_income_df = gross_income_df.drop(columns=[\"_id\"], errors=\"ignore\")\n",
    "\n",
    "    current_year = 2024\n",
    "    # y_range = [str(current_year-x) for x in range(year_range)]\n",
    "    available_years = set(map(str, income_df.columns))\n",
    "    y_range = [\n",
    "        str(current_year - x)\n",
    "        for x in range(year_range)\n",
    "        if str(current_year - x) in available_years and str(current_year - x) not in map(str, skip_years)\n",
    "    ]\n",
    "\n",
    "    gross_income_df.index = [\"Income\"]\n",
    "    \n",
    "    return gross_income_df[y_range]"
   ]
  },
  {
   "cell_type": "code",
   "execution_count": null,
   "metadata": {},
   "outputs": [],
   "source": [
    "def process_healthcare(cpi_df: pd.DataFrame, row_lists: List[str], year_range: int = 11, skip_years: List[str] = []) -> pd.DataFrame: \n",
    "    cpi_df[\"DataSeries\"] = cpi_df[\"DataSeries\"].str.strip()\n",
    "    hc_df = cpi_df[cpi_df[\"DataSeries\"].isin(row_lists)].reset_index(drop=True)\n",
    "    hc_df = hc_df.drop(columns=[\"_id\"], errors=\"ignore\")\n",
    "\n",
    "    current_year = 2024\n",
    "    # y_range = [str(current_year-x) for x in range(year_range)]\n",
    "    available_years = {col[:4] for col in cpi_df.columns if col[:4].isdigit()}\n",
    "    y_range = [\n",
    "        str(current_year - x)\n",
    "        for x in range(year_range)\n",
    "        if str(current_year - x) in available_years and str(current_year - x) not in map(str, skip_years)\n",
    "    ]\n",
    "\n",
    "    yearly_avg = {}\n",
    "    row_names  = []\n",
    "    for index, row in hc_df.iterrows():\n",
    "        row_name = row[\"DataSeries\"]\n",
    "        row_names.append(row_name)\n",
    "\n",
    "        yearly_avg[row_name] = {}\n",
    "\n",
    "\n",
    "        for year in y_range: \n",
    "            month_col = [col for col in hc_df.columns if col.startswith(year)]\n",
    "            if month_col: \n",
    "                row_data = pd.to_numeric(row[month_col], errors=\"coerce\").dropna()\n",
    "\n",
    "                if not row_data.empty: \n",
    "                    yearly_avg[row_name][year] = row_data.mean()\n",
    "                else:\n",
    "                    yearly_avg[row_name][year] = None\n",
    "\n",
    "    return pd.DataFrame(yearly_avg).T"
   ]
  },
  {
   "cell_type": "code",
   "execution_count": null,
   "metadata": {},
   "outputs": [],
   "source": [
    "process_income_df = process_income(income_df, \"Median\", year_range=22, skip_years=[\"2005\"])\n",
    "process_income_df"
   ]
  },
  {
   "cell_type": "code",
   "execution_count": null,
   "metadata": {},
   "outputs": [],
   "source": [
    "health_care_col = [\n",
    "    \"Medicines & Health Products\",\n",
    "    \"Outpatient Services\",\n",
    "    \"Hospital Services\",\n",
    "    \"Health Insurance\"\n",
    "]\n",
    "process_healthcare_df = process_healthcare(cpi_df=cpi_df, row_lists=health_care_col, year_range=22, skip_years=[\"2005\"])\n",
    "process_healthcare_df"
   ]
  },
  {
   "cell_type": "markdown",
   "metadata": {},
   "source": [
    "### Merge income and healthcare"
   ]
  },
  {
   "cell_type": "code",
   "execution_count": null,
   "metadata": {},
   "outputs": [],
   "source": [
    "income_healthcare_df = pd.concat([process_income_df, process_healthcare_df])\n",
    "income_healthcare_df = income_healthcare_df.transpose()\n",
    "income_healthcare_df = income_healthcare_df[::-1]\n",
    "\n",
    "# Convert to numeric because all the data are strings.\n",
    "income_healthcare_df = income_healthcare_df.apply(pd.to_numeric, errors=\"coerce\")\n",
    "\n",
    "# Convert index to number.\n",
    "income_healthcare_df.index = income_healthcare_df.index.astype(int)\n",
    "\n",
    "# Filter to 2014 and beyond.\n",
    "income_healthcare_df = income_healthcare_df[income_healthcare_df.index >= 2014]\n",
    "\n",
    "income_healthcare_df"
   ]
  },
  {
   "cell_type": "markdown",
   "metadata": {},
   "source": [
    "## Visualisation"
   ]
  },
  {
   "cell_type": "code",
   "execution_count": null,
   "metadata": {},
   "outputs": [],
   "source": [
    "fig2, ax3 = plt.subplots(figsize=(12,6))\n",
    "\n",
    "# stackbar chart\n",
    "income_healthcare_df[[\"Medicines & Health Products\", \"Outpatient Services\", \"Hospital Services\", \"Health Insurance\"]].plot(kind=\"bar\", stacked=True, alpha=0.5, ax=ax3, cmap=\"coolwarm\")\n",
    "ax3.set_ylabel(\"Healthcare Cost Index\")\n",
    "\n",
    "# label and title\n",
    "ax3.set_xlabel(\"Year\")\n",
    "ax3.set_title(\"Healthcare Costs vs Wage Growth Over Time\")\n",
    "\n",
    "# show legend\n",
    "ax3.legend(title=\"Healthcare Cost Categories\", bbox_to_anchor=(1.05, 1), loc=\"upper left\")\n",
    "\n",
    "\n",
    "# line chart for income\n",
    "# `ax3.get_xticks()` must be specified as the x values.\n",
    "# See: # https://stackoverflow.com/questions/49894161/line-doesnt-show-over-barplot\n",
    "ax4 = ax3.twinx()\n",
    "sns.lineplot(x=ax3.get_xticks(), y=income_healthcare_df[\"Income\"], marker=\"o\", color=\"black\", linewidth=2, ax=ax4)\n",
    "ax4.set_ylabel(\"Income\", color=\"black\")\n",
    "\n",
    "# Rotate x axis labels \n",
    "plt.xticks(rotation=45)\n",
    "\n",
    "plt.show()"
   ]
  },
  {
   "cell_type": "markdown",
   "metadata": {},
   "source": [
    "### Percentage change healthcare Costs vs Wage Growth "
   ]
  },
  {
   "cell_type": "code",
   "execution_count": null,
   "metadata": {},
   "outputs": [],
   "source": [
    "row_list = [\n",
    "    \"Health Care\"\n",
    "]\n",
    "healthcare_df = process_healthcare(cpi_df=cpi_df, row_lists=row_list, year_range=22, skip_years=[\"2005\"])\n",
    "healthcare_df = healthcare_df.transpose()\n",
    "healthcare_df = healthcare_df[::-1]\n",
    "healthcare_df[\"Health Care % Change\"] = healthcare_df[\"Health Care\"].pct_change() * 100\n",
    "healthcare_df.index = healthcare_df.index.set_names(\"Year\")\n",
    "healthcare_df.index = pd.to_numeric(healthcare_df.index)\n",
    "healthcare_df"
   ]
  },
  {
   "cell_type": "code",
   "execution_count": null,
   "metadata": {},
   "outputs": [],
   "source": [
    "temp_income_df = process_income_df.stack().reset_index()\n",
    "temp_income_df= temp_income_df.drop(\"level_0\", axis=1)\n",
    "temp_income_df = temp_income_df.rename({\n",
    "    \"level_1\": \"Year\",\n",
    "    0: \"Income\",\n",
    "}, axis=1)\n",
    "temp_income_df = temp_income_df.apply(pd.to_numeric)\n",
    "temp_income_df = temp_income_df.sort_values(\"Year\")\n",
    "temp_income_df[\"Income % Change\"] = temp_income_df[\"Income\"].pct_change() * 100\n",
    "temp_income_df = temp_income_df.set_index(\"Year\")\n",
    "temp_income_df"
   ]
  },
  {
   "cell_type": "code",
   "execution_count": null,
   "metadata": {},
   "outputs": [],
   "source": [
    "# healthcare_income_percentage_df = pd.concat([healthcare_df, temp_income_df])\n",
    "# healthcare_income_percentage_df.loc[\"2003\"]\n",
    "# healthcare_income_percentage_df = healthcare_income_percentage_df.drop(healthcare_income_percentage_df.loc[\"2003\"].index)\n",
    "# healthcare_income_percentage_df\n",
    "\n",
    "healthcare_income_percentage_df = pd.merge(healthcare_df, temp_income_df, left_index=True, right_index=True, how=\"outer\")\n",
    "\n",
    "healthcare_income_percentage_df = healthcare_income_percentage_df.drop(\"2003\", errors=\"ignore\")\n",
    "\n",
    "# Convert year to integer.\n",
    "healthcare_income_percentage_df.index = healthcare_income_percentage_df.index.astype(int)\n",
    "\n",
    "# Set index name to \"Year\".\n",
    "healthcare_income_percentage_df.index = healthcare_income_percentage_df.index.set_names([\"Year\"])\n",
    "\n",
    "# Filter to 2014 and beyond.\n",
    "healthcare_income_percentage_df = healthcare_income_percentage_df[\n",
    "    healthcare_income_percentage_df.index >= 2014\n",
    "]\n",
    "healthcare_income_percentage_df"
   ]
  },
  {
   "cell_type": "code",
   "execution_count": null,
   "metadata": {},
   "outputs": [],
   "source": [
    "# Unpivot to long format in preparation for the category plot.\n",
    "healthcare_income_percentage_df = healthcare_income_percentage_df.reset_index().melt(\n",
    "    id_vars=\"Year\",\n",
    "    value_vars=[\"Health Care % Change\", \"Income % Change\"],\n",
    "    var_name=\"Category\",\n",
    "    value_name=\"% Change\"\n",
    ")\n",
    "healthcare_income_percentage_df = healthcare_income_percentage_df.replace(\"Health Care % Change\", \"Healthcare\")\n",
    "healthcare_income_percentage_df = healthcare_income_percentage_df.replace(\"Income % Change\", \"Income\")\n",
    "healthcare_income_percentage_df"
   ]
  },
  {
   "cell_type": "markdown",
   "metadata": {},
   "source": [
    "### Visualisation "
   ]
  },
  {
   "cell_type": "code",
   "execution_count": null,
   "metadata": {},
   "outputs": [],
   "source": [
    "sns.catplot(\n",
    "    data=healthcare_income_percentage_df,\n",
    "    x=\"Year\",\n",
    "    y=\"% Change\",\n",
    "    hue=\"Category\",\n",
    "    kind=\"bar\",\n",
    "    height=5,\n",
    "    aspect=2.5,\n",
    ")"
   ]
  },
  {
   "cell_type": "markdown",
   "metadata": {},
   "source": [
    "## Breakdown of Healthcare CPI "
   ]
  },
  {
   "cell_type": "code",
   "execution_count": null,
   "metadata": {},
   "outputs": [],
   "source": [
    "healthcare_cols = [\n",
    "    \"Medicines & Health Products\",\n",
    "    \"Medicines & Vitamins\",\n",
    "    \"Medical Products\",\n",
    "    \"Outpatient Services\",\n",
    "    \"Fees At Polyclinics\",\n",
    "    \"Fees At GP Clinics\",\n",
    "    \"Fees At Specialist Clinics\",\n",
    "    \"Dental Services\",\n",
    "    \"Paramedical Services\",\n",
    "    \"Hospital Services\",\n",
    "    \"Health Insurance\"\n",
    "]\n",
    "\n",
    "all_healthcare_df = process_healthcare(cpi_df=cpi_df, row_lists=healthcare_cols, year_range=22)\n",
    "all_healthcare_df = all_healthcare_df.fillna(method=\"ffill\")\n",
    "all_healthcare_df = all_healthcare_df.transpose()\n",
    "all_healthcare_df = all_healthcare_df[::-1]\n",
    "\n",
    "# Convert year index to integer.\n",
    "all_healthcare_df.index = all_healthcare_df.index.astype(int)\n",
    "\n",
    "# Filter to 2014 and beyond.\n",
    "all_healthcare_df = all_healthcare_df[all_healthcare_df.index >= 2014]\n",
    "\n",
    "all_healthcare_df"
   ]
  },
  {
   "cell_type": "markdown",
   "metadata": {},
   "source": [
    "### Visualisation "
   ]
  },
  {
   "cell_type": "code",
   "execution_count": null,
   "metadata": {},
   "outputs": [],
   "source": [
    "fig4, ax7 = plt.subplots(figsize=(12,6))\n",
    "\n",
    "all_healthcare_df.plot(kind=\"bar\", stacked=True, ax=ax7, cmap=\"coolwarm\", alpha=0.75)\n",
    "\n",
    "ax7.set_xlabel(\"Year\")\n",
    "ax7.set_ylabel(\"CPI Value\")\n",
    "ax7.set_title(\"Breakdown of Healthcare CPI Components Over Time\")\n",
    "\n",
    "ax7.legend(title=\"Healthcare Components\", bbox_to_anchor=(1.05, 1), loc=\"upper left\")\n",
    "\n",
    "plt.xticks(rotation=45)\n",
    "\n",
    "plt.show()"
   ]
  }
 ],
 "metadata": {
  "language_info": {
   "name": "python"
  }
 },
 "nbformat": 4,
 "nbformat_minor": 4
}
