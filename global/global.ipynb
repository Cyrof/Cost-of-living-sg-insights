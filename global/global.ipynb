{
 "cells": [
  {
   "cell_type": "markdown",
   "metadata": {},
   "source": [
    "# Global Charts\n",
    "\n",
    "## Datasets\n",
    "- [Global Economic Monitor (GEM)](https://databank.worldbank.org/reports.aspx?source=1179)\n",
    "\n",
    "- [GDP per capita, PPP (constant 2021 international $)](https://data.worldbank.org/indicator/NY.GDP.PCAP.PP.KD)\n",
    "\n",
    "- [Real effective exchange rate index (2010 = 100)](https://data.worldbank.org/indicator/PX.REX.REER)"
   ]
  },
  {
   "cell_type": "markdown",
   "metadata": {},
   "source": [
    "## Preamble"
   ]
  },
  {
   "cell_type": "code",
   "execution_count": null,
   "metadata": {},
   "outputs": [],
   "source": [
    "import pandas as pd\n",
    "import wbdata\n",
    "import plotly.express as px\n",
    "import plotly.graph_objects as go\n",
    "\n",
    "import dateutil.parser"
   ]
  },
  {
   "cell_type": "markdown",
   "metadata": {},
   "source": [
    "## World Bank Organisation Data"
   ]
  },
  {
   "cell_type": "code",
   "execution_count": null,
   "metadata": {},
   "outputs": [],
   "source": [
    "CPI_ID = \"CPTOTSAXN\"\n",
    "PPP_ID = \"NY.GDP.PCAP.PP.KD\"\n",
    "REER2010_ID = \"PX.REX.REER\""
   ]
  },
  {
   "cell_type": "code",
   "execution_count": null,
   "metadata": {},
   "outputs": [],
   "source": [
    "country_code_map: dict[str, str] = {\n",
    "    entry[\"name\"]: entry[\"id\"]\n",
    "    for entry in wbdata.get_countries()\n",
    "}"
   ]
  },
  {
   "cell_type": "code",
   "execution_count": null,
   "metadata": {},
   "outputs": [],
   "source": [
    "df_raw = wbdata.get_dataframe(\n",
    "    indicators={\n",
    "        CPI_ID: \"CPI\",\n",
    "        PPP_ID: \"PPP\",\n",
    "        REER2010_ID: \"REER2010\",\n",
    "    },\n",
    "    parse_dates=True,\n",
    ")\n",
    "df_raw"
   ]
  },
  {
   "cell_type": "code",
   "execution_count": null,
   "metadata": {},
   "outputs": [],
   "source": [
    "df = df_raw.reset_index()\n",
    "df = df.dropna()\n",
    "df = df[df[\"date\"] > dateutil.parser.parse(\"2009\")]\n",
    "df[\"Year\"] = df[\"date\"].apply(lambda date: date.year)\n",
    "df = df.rename({\n",
    "    \"country\": \"Country\",\n",
    "}, axis=1)\n",
    "df = df.drop(\"date\", axis=1)\n",
    "\n",
    "df = df.reset_index(drop=True)\n",
    "\n",
    "countries_with_all_years = df.groupby('Country')['Year'].apply(lambda years: set(range(2010, 2024)).issubset(set(years)))\n",
    "valid_countries = countries_with_all_years[countries_with_all_years].index\n",
    "\n",
    "df = df[df['Country'].isin(valid_countries)]\n",
    "\n",
    "df[\"Country Code\"] = df[\"Country\"].apply(lambda name: country_code_map[name])\n",
    "df = df[[\"Year\", \"Country\", \"Country Code\", \"CPI\", \"PPP\", \"REER2010\"]] # Reorder columns.\n",
    "df"
   ]
  },
  {
   "cell_type": "markdown",
   "metadata": {},
   "source": [
    "## CPI and GDP Map"
   ]
  },
  {
   "cell_type": "code",
   "execution_count": null,
   "metadata": {},
   "outputs": [],
   "source": [
    "df[df[\"Country\"] == \"Singapore\"]"
   ]
  },
  {
   "cell_type": "code",
   "execution_count": null,
   "metadata": {},
   "outputs": [],
   "source": [
    "fig = px.scatter_geo(\n",
    "    df,\n",
    "    locations=\"Country Code\",\n",
    "    size=\"CPI\",\n",
    "    color=\"Country\",\n",
    "    hover_name=\"Country\",\n",
    "    size_max=30,\n",
    "    animation_frame=\"Year\",\n",
    "    title=\"Bubble Map of CPI by Country\"\n",
    ")\n",
    "\n",
    "# Need to increase the resolution of the map.\n",
    "# Otherwise, Singapore won't be visible.\n",
    "fig.update_layout({\n",
    "    \"geo\": {\n",
    "        \"resolution\": 50,\n",
    "        \"projection\": {\n",
    "            \"type\": \"natural earth\",\n",
    "        },\n",
    "    },\n",
    "})\n",
    "\n",
    "# Border for Singapore.\n",
    "fig.update_traces(\n",
    "    selector=dict(name='Singapore'),\n",
    "    marker=dict(line=dict(width=2, color='black'))\n",
    ")\n",
    "\n",
    "fig.show()"
   ]
  },
  {
   "cell_type": "code",
   "execution_count": null,
   "metadata": {},
   "outputs": [],
   "source": [
    "fig = px.scatter_geo(\n",
    "    df,\n",
    "    locations=\"Country Code\",\n",
    "    size=\"PPP\",\n",
    "    color=\"Country\",\n",
    "    hover_name=\"Country\",\n",
    "    size_max=30,\n",
    "    animation_frame=\"Year\",\n",
    "    title=\"Bubble Map of GDP per Capita (PPP) by Country\"\n",
    ")\n",
    "\n",
    "# Need to increase the resolution of the map.\n",
    "# Otherwise, Singapore won't be visible.\n",
    "fig.update_layout({\n",
    "    \"geo\": {\n",
    "        \"resolution\": 50,\n",
    "        \"projection\": {\n",
    "            \"type\": \"natural earth\",\n",
    "        },\n",
    "    },\n",
    "})\n",
    "\n",
    "# Border for Singapore.\n",
    "fig.update_traces(\n",
    "    selector=dict(name='Singapore'),\n",
    "    marker=dict(line=dict(width=2, color='black'))\n",
    ")\n",
    "\n",
    "fig.show()"
   ]
  },
  {
   "cell_type": "markdown",
   "metadata": {},
   "source": [
    "## CPI vs. GDP per Capita (PPP) with REER Bubble Size"
   ]
  },
  {
   "cell_type": "code",
   "execution_count": null,
   "metadata": {},
   "outputs": [],
   "source": [
    "fig = px.scatter(\n",
    "    df,\n",
    "    x=\"CPI\",\n",
    "    y=\"PPP\",\n",
    "    size=\"REER2010\",\n",
    "    color=\"Country\",\n",
    "    hover_name=\"Country\",\n",
    "    hover_data=[\"Year\"],\n",
    "    animation_frame=\"Year\",\n",
    "    title=\"CPI vs. GDP per Capita (PPP) with REER Bubble Size\",\n",
    "    labels={\"CPI\": \"Consumer Price Index (CPI)\", \"PPP\": \"GDP per Capita (PPP)\", \"REER2010\": \"Real Effective Exchange Rate (2010)\"},\n",
    "    range_x=[0, 400],\n",
    "    range_y=[0, 150_000],\n",
    ")\n",
    "\n",
    "# Border for all points.\n",
    "fig.update_traces(marker=dict(\n",
    "    line=dict(width=1, color='black')\n",
    "))\n",
    "\n",
    "# Thicker border for Singapore.\n",
    "fig.update_traces(\n",
    "    selector=dict(name='Singapore'),\n",
    "    marker=dict(line=dict(width=5, color='black'))\n",
    ")\n",
    "\n",
    "fig.show()"
   ]
  }
 ],
 "metadata": {
  "language_info": {
   "name": "python"
  }
 },
 "nbformat": 4,
 "nbformat_minor": 4
}
