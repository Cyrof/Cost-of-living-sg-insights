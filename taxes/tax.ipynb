{
 "cells": [
  {
   "cell_type": "markdown",
   "metadata": {},
   "source": [
    "# Tax Graphs\n",
    "Should do data exploration for taxes here\n",
    "\n",
    "## Datasets\n",
    "- [CPI](https://data.gov.sg/datasets/d_de7e93a1d0e22c790516a632747bf7f0/view)\n",
    "- [Tax Rate for GST](https://data.gov.sg/datasets/d_2e65ed309aa8d449d1bd0c7ef7c7e4da/view)\n",
    "- [Property Tax](https://data.gov.sg/datasets?agencies=Inland+Revenue+Authority+of+Singapore+(IRAS)&page=1&resultId=d_48143be392f1ed22f0700835212e5a60&dataExplorerPage=7)"
   ]
  }
 ],
 "metadata": {
  "language_info": {
   "name": "python"
  }
 },
 "nbformat": 4,
 "nbformat_minor": 2
}
