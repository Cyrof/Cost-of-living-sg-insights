{
 "cells": [
  {
   "cell_type": "markdown",
   "metadata": {},
   "source": [
    "# Education Graphs\n",
    "\n",
    "## Datasets\n",
    "- [Mandatory Education](https://smartwealth.sg/school-fees-in-singapore/#:~:text=Primary%20School,-Thanks%20to%20the&text=Parents%20will%20only%20need%20to,are%20set%20at%20%24230%20–%20%24268)\n",
    "- [Income Group](https://data.gov.sg/datasets?agencies=Inland+Revenue+Authority+of+Singapore+(IRAS)&page=1&resultId=d_f394f202534237671d39b17bd3b506ec)"
   ]
  }
 ],
 "metadata": {
  "language_info": {
   "name": "python"
  }
 },
 "nbformat": 4,
 "nbformat_minor": 2
}
